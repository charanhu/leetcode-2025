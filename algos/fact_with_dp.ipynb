{
 "cells": [
  {
   "cell_type": "code",
   "execution_count": 2,
   "metadata": {},
   "outputs": [
    {
     "name": "stdout",
     "output_type": "stream",
     "text": [
      "Factorial of 5: 120\n"
     ]
    }
   ],
   "source": [
    "def factorial(n, memo=None):\n",
    "    \"\"\"\n",
    "    Returns the factorial of n using a simple recursive definition.\n",
    "    \"\"\"\n",
    "    if memo is None:\n",
    "        memo={}\n",
    "    # Base case: factorial of 0 or 1 is 1\n",
    "    if n <= 1:\n",
    "        memo[n]=1\n",
    "        return 1\n",
    "    # Recursive case: n * factorial of (n-1)\n",
    "    result =  n * factorial(n-1, memo)\n",
    "\n",
    "    memo[n] = result\n",
    "\n",
    "    return result\n",
    "\n",
    "\n",
    "# Example usage:\n",
    "if __name__ == \"__main__\":\n",
    "    print(\"Factorial of 5:\", factorial(5))\n"
   ]
  },
  {
   "cell_type": "code",
   "execution_count": null,
   "metadata": {},
   "outputs": [],
   "source": []
  }
 ],
 "metadata": {
  "kernelspec": {
   "display_name": "venv",
   "language": "python",
   "name": "python3"
  },
  "language_info": {
   "codemirror_mode": {
    "name": "ipython",
    "version": 3
   },
   "file_extension": ".py",
   "mimetype": "text/x-python",
   "name": "python",
   "nbconvert_exporter": "python",
   "pygments_lexer": "ipython3",
   "version": "3.12.3"
  }
 },
 "nbformat": 4,
 "nbformat_minor": 2
}
