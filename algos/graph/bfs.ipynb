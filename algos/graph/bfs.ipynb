{
 "cells": [
  {
   "cell_type": "code",
   "execution_count": 4,
   "metadata": {},
   "outputs": [
    {
     "name": "stdout",
     "output_type": "stream",
     "text": [
      "BFS order: (['A', 'B', 'C', 'D', 'E', 'F', 'G', 'H'], {'B', 'C', 'G', 'F', 'H', 'E', 'A', 'D'})\n"
     ]
    }
   ],
   "source": [
    "from collections import deque\n",
    "\n",
    "\n",
    "def bfs(graph, start):\n",
    "    \"\"\"\n",
    "    Perform Breadth-First Search on 'graph' starting from 'start'.\n",
    "    'graph' is a dict {node: [neighbors]}.\n",
    "    Returns the order in which nodes are visited.\n",
    "    \"\"\"\n",
    "    visited = set()  # Keep track of visited nodes\n",
    "    order = []  # The order in which nodes are visited\n",
    "    queue = deque([start])  # Initialize the queue with the start node\n",
    "\n",
    "    while queue:\n",
    "        current = queue.popleft()  # Dequeue the front node\n",
    "        if current not in visited:\n",
    "            visited.add(current)  # Mark as visited\n",
    "            order.append(current)  # Record visitation\n",
    "\n",
    "            # Enqueue all unvisited neighbors\n",
    "            for neighbor in graph[current]:\n",
    "                if neighbor not in visited:\n",
    "                    queue.append(neighbor)\n",
    "\n",
    "    return order, visited\n",
    "\n",
    "\n",
    "# Example BFS usage:\n",
    "if __name__ == \"__main__\":\n",
    "    example_graph = {\n",
    "        \"A\": [\"B\", \"C\"],\n",
    "        \"B\": [\"A\", \"D\", \"E\"],\n",
    "        \"C\": [\"A\", \"F\", \"G\"],\n",
    "        \"D\": [\"B\"],\n",
    "        \"E\": [\"B\", \"H\"],\n",
    "        \"F\": [\"C\"],\n",
    "        \"G\": [\"C\"],\n",
    "        \"H\": [\"E\"],\n",
    "    }\n",
    "    print(\"BFS order:\", bfs(example_graph, \"A\"))"
   ]
  },
  {
   "cell_type": "code",
   "execution_count": 8,
   "metadata": {},
   "outputs": [
    {
     "name": "stdout",
     "output_type": "stream",
     "text": [
      "A\n",
      "B\n",
      "C\n",
      "D\n",
      "E\n",
      "F\n",
      "G\n",
      "H\n",
      "{'B', 'C', 'G', 'F', 'H', 'E', 'A', 'D'}\n"
     ]
    }
   ],
   "source": [
    "from collections import deque\n",
    "\n",
    "\n",
    "def bfs(graph, start):\n",
    "    visited = set()  # Track visited nodes\n",
    "    queue = deque([start])  # Initialize queue with the start node\n",
    "    visited.add(start)\n",
    "\n",
    "    while queue:\n",
    "        node = queue.popleft()  # Dequeue the front element\n",
    "        print(node)  # Process the current node\n",
    "\n",
    "        # Go through all neighbors of the current node\n",
    "        for neighbor in graph[node]:\n",
    "            if neighbor not in visited:\n",
    "                visited.add(neighbor)\n",
    "                queue.append(neighbor)\n",
    "    print(visited)\n",
    "\n",
    "# Example graph represented as an adjacency list\n",
    "graph = {\n",
    "    \"A\": [\"B\", \"C\"],\n",
    "    \"B\": [\"A\", \"D\", \"E\"],\n",
    "    \"C\": [\"A\", \"F\", \"G\"],\n",
    "    \"D\": [\"B\"],\n",
    "    \"E\": [\"B\", \"H\"],\n",
    "    \"F\": [\"C\"],\n",
    "    \"G\": [\"C\"],\n",
    "    \"H\": [\"E\"],\n",
    "}\n",
    "\n",
    "# Call bfs starting from node 'A'\n",
    "bfs(graph, \"A\")"
   ]
  },
  {
   "cell_type": "code",
   "execution_count": 10,
   "metadata": {},
   "outputs": [
    {
     "name": "stdout",
     "output_type": "stream",
     "text": [
      "Shortest Path: [(0, 0), (1, 0), (2, 0), (3, 1), (3, 2), (3, 3)]\n"
     ]
    }
   ],
   "source": [
    "from collections import deque\n",
    "\n",
    "def bfs_shortest_8directions(grid, start, end):\n",
    "    rows = len(grid)\n",
    "    cols = len(grid[0])\n",
    "    \n",
    "    # Define 8 possible moves: up, down, left, right, and 4 diagonals\n",
    "    moves = [(-1, 0), (1, 0), (0, -1), (0, 1),\n",
    "             (-1, -1), (-1, 1), (1, -1), (1, 1)]\n",
    "    \n",
    "    queue = deque([start])\n",
    "    visited = set([start])\n",
    "    parent = {start: None}\n",
    "    \n",
    "    while queue:\n",
    "        x, y = queue.popleft()\n",
    "        \n",
    "        # If we've reached the destination, stop searching\n",
    "        if (x, y) == end:\n",
    "            break\n",
    "        \n",
    "        for dx, dy in moves:\n",
    "            new_x, new_y = x + dx, y + dy\n",
    "            # Check bounds, obstacles, and whether we've visited this cell before\n",
    "            if (0 <= new_x < rows and 0 <= new_y < cols and \n",
    "                grid[new_x][new_y] == 0 and (new_x, new_y) not in visited):\n",
    "                \n",
    "                visited.add((new_x, new_y))\n",
    "                parent[(new_x, new_y)] = (x, y)  # Track the path\n",
    "                queue.append((new_x, new_y))\n",
    "    \n",
    "    # If end wasn't reached, no path exists\n",
    "    if end not in parent:\n",
    "        return None\n",
    "    \n",
    "    # Reconstruct the shortest path from end to start\n",
    "    path = []\n",
    "    current = end\n",
    "    while current is not None:\n",
    "        path.append(current)\n",
    "        current = parent[current]\n",
    "    path.reverse()\n",
    "    \n",
    "    return path\n",
    "\n",
    "# Define the grid\n",
    "grid = [\n",
    "    [0, 1, 0, 1],\n",
    "    [0, 0, 1, 0],\n",
    "    [0, 1, 1, 0],\n",
    "    [0, 0, 0, 0]\n",
    "]\n",
    "\n",
    "start = (0, 0)\n",
    "end = (3, 3)\n",
    "\n",
    "shortest_path = bfs_shortest_8directions(grid, start, end)\n",
    "print(\"Shortest Path:\", shortest_path)\n"
   ]
  },
  {
   "cell_type": "code",
   "execution_count": 13,
   "metadata": {},
   "outputs": [
    {
     "ename": "OverflowError",
     "evalue": "cannot convert float infinity to integer",
     "output_type": "error",
     "traceback": [
      "\u001b[0;31m---------------------------------------------------------------------------\u001b[0m",
      "\u001b[0;31mOverflowError\u001b[0m                             Traceback (most recent call last)",
      "Cell \u001b[0;32mIn[13], line 2\u001b[0m\n\u001b[1;32m      1\u001b[0m \u001b[38;5;66;03m# Defining a positive infinite integer\u001b[39;00m\n\u001b[0;32m----> 2\u001b[0m positive_infinity \u001b[38;5;241m=\u001b[39m \u001b[38;5;28;43mint\u001b[39;49m\u001b[43m(\u001b[49m\u001b[38;5;28;43mfloat\u001b[39;49m\u001b[43m(\u001b[49m\u001b[38;5;124;43m'\u001b[39;49m\u001b[38;5;124;43minf\u001b[39;49m\u001b[38;5;124;43m'\u001b[39;49m\u001b[43m)\u001b[49m\u001b[43m)\u001b[49m\n\u001b[1;32m      3\u001b[0m \u001b[38;5;28mprint\u001b[39m(\u001b[38;5;124m'\u001b[39m\u001b[38;5;124mPositive Infinity: \u001b[39m\u001b[38;5;124m'\u001b[39m, positive_infinity)\n\u001b[1;32m      4\u001b[0m \u001b[38;5;66;03m# Defining a negative infinite integer\u001b[39;00m\n",
      "\u001b[0;31mOverflowError\u001b[0m: cannot convert float infinity to integer"
     ]
    }
   ],
   "source": [
    "# Defining a positive infinite integer\n",
    "positive_infinity = int(float('inf'))\n",
    "print('Positive Infinity: ', positive_infinity)\n",
    "# Defining a negative infinite integer\n",
    "negative_infinity = float('-inf')\n",
    "print('Negative Infinity: ', negative_infinity)\n"
   ]
  },
  {
   "cell_type": "code",
   "execution_count": 1,
   "metadata": {},
   "outputs": [
    {
     "name": "stdout",
     "output_type": "stream",
     "text": [
      "BFS order: ['A', 'B', 'C', 'D', 'E', 'F']\n"
     ]
    }
   ],
   "source": [
    "def bfs(graph, start):\n",
    "    \"\"\"\n",
    "    Perform Breadth-First Search on 'graph' starting from 'start'.\n",
    "    'graph' is a dict {node: [neighbors]}.\n",
    "    Returns the order in which nodes are visited.\n",
    "    \"\"\"\n",
    "    visited = set()    # To track visited nodes\n",
    "    order = []         # List to record the visitation order\n",
    "\n",
    "    queue = [start]    # Initialize the queue with the start node\n",
    "    head = 0           # Initialize the front pointer for the queue\n",
    "\n",
    "    while head < len(queue):  # While there are elements in the queue\n",
    "        current = queue[head]  # \"Dequeue\" an element from the front\n",
    "        head += 1\n",
    "\n",
    "        # Process current node if it hasn't been visited\n",
    "        if current not in visited:\n",
    "            visited.add(current)\n",
    "            order.append(current)\n",
    "\n",
    "            # Enqueue all unvisited neighbors\n",
    "            for neighbor in graph[current]:\n",
    "                if neighbor not in visited:\n",
    "                    queue.append(neighbor)\n",
    "\n",
    "    return order\n",
    "\n",
    "# Example BFS usage:\n",
    "if __name__ == \"__main__\":\n",
    "    example_graph = {\n",
    "        'A': ['B', 'C'],\n",
    "        'B': ['D', 'E'],\n",
    "        'C': ['F'],\n",
    "        'D': [],\n",
    "        'E': ['F'],\n",
    "        'F': []\n",
    "    }\n",
    "    print(\"BFS order:\", bfs(example_graph, 'A'))\n"
   ]
  }
 ],
 "metadata": {
  "kernelspec": {
   "display_name": "venv",
   "language": "python",
   "name": "python3"
  },
  "language_info": {
   "codemirror_mode": {
    "name": "ipython",
    "version": 3
   },
   "file_extension": ".py",
   "mimetype": "text/x-python",
   "name": "python",
   "nbconvert_exporter": "python",
   "pygments_lexer": "ipython3",
   "version": "3.12.3"
  }
 },
 "nbformat": 4,
 "nbformat_minor": 2
}
