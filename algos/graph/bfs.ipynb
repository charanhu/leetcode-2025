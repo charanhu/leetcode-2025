{
 "cells": [
  {
   "cell_type": "code",
   "execution_count": 4,
   "metadata": {},
   "outputs": [
    {
     "name": "stdout",
     "output_type": "stream",
     "text": [
      "BFS order: (['A', 'B', 'C', 'D', 'E', 'F', 'G', 'H'], {'B', 'C', 'G', 'F', 'H', 'E', 'A', 'D'})\n"
     ]
    }
   ],
   "source": [
    "from collections import deque\n",
    "\n",
    "\n",
    "def bfs(graph, start):\n",
    "    \"\"\"\n",
    "    Perform Breadth-First Search on 'graph' starting from 'start'.\n",
    "    'graph' is a dict {node: [neighbors]}.\n",
    "    Returns the order in which nodes are visited.\n",
    "    \"\"\"\n",
    "    visited = set()  # Keep track of visited nodes\n",
    "    order = []  # The order in which nodes are visited\n",
    "    queue = deque([start])  # Initialize the queue with the start node\n",
    "\n",
    "    while queue:\n",
    "        current = queue.popleft()  # Dequeue the front node\n",
    "        if current not in visited:\n",
    "            visited.add(current)  # Mark as visited\n",
    "            order.append(current)  # Record visitation\n",
    "\n",
    "            # Enqueue all unvisited neighbors\n",
    "            for neighbor in graph[current]:\n",
    "                if neighbor not in visited:\n",
    "                    queue.append(neighbor)\n",
    "\n",
    "    return order, visited\n",
    "\n",
    "\n",
    "# Example BFS usage:\n",
    "if __name__ == \"__main__\":\n",
    "    example_graph = {\n",
    "        \"A\": [\"B\", \"C\"],\n",
    "        \"B\": [\"A\", \"D\", \"E\"],\n",
    "        \"C\": [\"A\", \"F\", \"G\"],\n",
    "        \"D\": [\"B\"],\n",
    "        \"E\": [\"B\", \"H\"],\n",
    "        \"F\": [\"C\"],\n",
    "        \"G\": [\"C\"],\n",
    "        \"H\": [\"E\"],\n",
    "    }\n",
    "    print(\"BFS order:\", bfs(example_graph, \"A\"))"
   ]
  },
  {
   "cell_type": "code",
   "execution_count": 8,
   "metadata": {},
   "outputs": [
    {
     "name": "stdout",
     "output_type": "stream",
     "text": [
      "A\n",
      "B\n",
      "C\n",
      "D\n",
      "E\n",
      "F\n",
      "G\n",
      "H\n",
      "{'B', 'C', 'G', 'F', 'H', 'E', 'A', 'D'}\n"
     ]
    }
   ],
   "source": [
    "from collections import deque\n",
    "\n",
    "\n",
    "def bfs(graph, start):\n",
    "    visited = set()  # Track visited nodes\n",
    "    queue = deque([start])  # Initialize queue with the start node\n",
    "    visited.add(start)\n",
    "\n",
    "    while queue:\n",
    "        node = queue.popleft()  # Dequeue the front element\n",
    "        print(node)  # Process the current node\n",
    "\n",
    "        # Go through all neighbors of the current node\n",
    "        for neighbor in graph[node]:\n",
    "            if neighbor not in visited:\n",
    "                visited.add(neighbor)\n",
    "                queue.append(neighbor)\n",
    "    print(visited)\n",
    "\n",
    "# Example graph represented as an adjacency list\n",
    "graph = {\n",
    "    \"A\": [\"B\", \"C\"],\n",
    "    \"B\": [\"A\", \"D\", \"E\"],\n",
    "    \"C\": [\"A\", \"F\", \"G\"],\n",
    "    \"D\": [\"B\"],\n",
    "    \"E\": [\"B\", \"H\"],\n",
    "    \"F\": [\"C\"],\n",
    "    \"G\": [\"C\"],\n",
    "    \"H\": [\"E\"],\n",
    "}\n",
    "\n",
    "# Call bfs starting from node 'A'\n",
    "bfs(graph, \"A\")"
   ]
  },
  {
   "cell_type": "code",
   "execution_count": null,
   "metadata": {},
   "outputs": [],
   "source": []
  }
 ],
 "metadata": {
  "kernelspec": {
   "display_name": "venv",
   "language": "python",
   "name": "python3"
  },
  "language_info": {
   "codemirror_mode": {
    "name": "ipython",
    "version": 3
   },
   "file_extension": ".py",
   "mimetype": "text/x-python",
   "name": "python",
   "nbconvert_exporter": "python",
   "pygments_lexer": "ipython3",
   "version": "3.12.3"
  }
 },
 "nbformat": 4,
 "nbformat_minor": 2
}
