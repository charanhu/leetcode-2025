{
 "cells": [
  {
   "cell_type": "code",
   "execution_count": 1,
   "metadata": {},
   "outputs": [],
   "source": [
    "import time"
   ]
  },
  {
   "cell_type": "code",
   "execution_count": 2,
   "metadata": {},
   "outputs": [],
   "source": [
    "fact_dict = {}\n",
    "\n",
    "\n",
    "def factorial(n):\n",
    "    if n in fact_dict:\n",
    "        return fact_dict[n]\n",
    "    elif n == 0 or n == 1:\n",
    "        return 1\n",
    "    elif n > 1:\n",
    "        fact_n = n * factorial(n - 1)\n",
    "    fact_dict[n] = fact_n\n",
    "    return fact_n"
   ]
  },
  {
   "cell_type": "code",
   "execution_count": 3,
   "metadata": {},
   "outputs": [
    {
     "name": "stdout",
     "output_type": "stream",
     "text": [
      "Time taken for factorial(5): 0.0002171590 seconds\n"
     ]
    }
   ],
   "source": [
    "# Measure for n = 5\n",
    "start_time_5 = time.perf_counter()\n",
    "result_5 = factorial(5)\n",
    "end_time_5 = time.perf_counter()\n",
    "print(f\"Time taken for factorial(5): {end_time_5 - start_time_5:.10f} seconds\")"
   ]
  },
  {
   "cell_type": "code",
   "execution_count": 4,
   "metadata": {},
   "outputs": [
    {
     "name": "stdout",
     "output_type": "stream",
     "text": [
      "Time taken for factorial(500): 0.0008388200 seconds\n"
     ]
    }
   ],
   "source": [
    "# Measure for n = 500\n",
    "start_time_500 = time.perf_counter()\n",
    "result_500 = factorial(500)\n",
    "end_time_500 = time.perf_counter()\n",
    "print(f\"Time taken for factorial(500): {end_time_500 - start_time_500:.10f} seconds\")"
   ]
  },
  {
   "cell_type": "code",
   "execution_count": 5,
   "metadata": {},
   "outputs": [
    {
     "name": "stdout",
     "output_type": "stream",
     "text": [
      "Time taken for factorial(999): 0.0007530060 seconds\n"
     ]
    }
   ],
   "source": [
    "# Measure for n = 999\n",
    "start_time_999 = time.perf_counter()\n",
    "result_999 = factorial(999)\n",
    "end_time_999 = time.perf_counter()\n",
    "print(f\"Time taken for factorial(999): {end_time_999 - start_time_999:.10f} seconds\")"
   ]
  },
  {
   "cell_type": "code",
   "execution_count": 6,
   "metadata": {},
   "outputs": [
    {
     "name": "stdout",
     "output_type": "stream",
     "text": [
      "Time taken for factorial(5): 0.0001097050 seconds\n"
     ]
    }
   ],
   "source": [
    "# Measure for n = 5\n",
    "start_time_5 = time.perf_counter()\n",
    "result_5 = factorial(5)\n",
    "end_time_5 = time.perf_counter()\n",
    "print(f\"Time taken for factorial(5): {end_time_5 - start_time_5:.10f} seconds\")"
   ]
  },
  {
   "cell_type": "code",
   "execution_count": 7,
   "metadata": {},
   "outputs": [
    {
     "name": "stdout",
     "output_type": "stream",
     "text": [
      "Time taken for factorial(500): 0.0000899320 seconds\n"
     ]
    }
   ],
   "source": [
    "# Measure for n = 500\n",
    "start_time_500 = time.perf_counter()\n",
    "result_500 = factorial(500)\n",
    "end_time_500 = time.perf_counter()\n",
    "print(f\"Time taken for factorial(500): {end_time_500 - start_time_500:.10f} seconds\")"
   ]
  },
  {
   "cell_type": "code",
   "execution_count": 8,
   "metadata": {},
   "outputs": [
    {
     "name": "stdout",
     "output_type": "stream",
     "text": [
      "Time taken for factorial(999): 0.0000626480 seconds\n"
     ]
    }
   ],
   "source": [
    "# Measure for n = 999\n",
    "start_time_999 = time.perf_counter()\n",
    "result_999 = factorial(999)\n",
    "end_time_999 = time.perf_counter()\n",
    "print(f\"Time taken for factorial(999): {end_time_999 - start_time_999:.10f} seconds\")"
   ]
  },
  {
   "cell_type": "code",
   "execution_count": null,
   "metadata": {},
   "outputs": [],
   "source": []
  }
 ],
 "metadata": {
  "kernelspec": {
   "display_name": "venv",
   "language": "python",
   "name": "python3"
  },
  "language_info": {
   "codemirror_mode": {
    "name": "ipython",
    "version": 3
   },
   "file_extension": ".py",
   "mimetype": "text/x-python",
   "name": "python",
   "nbconvert_exporter": "python",
   "pygments_lexer": "ipython3",
   "version": "3.12.3"
  }
 },
 "nbformat": 4,
 "nbformat_minor": 2
}
