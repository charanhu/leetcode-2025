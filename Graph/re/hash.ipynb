{
 "cells": [
  {
   "cell_type": "code",
   "execution_count": null,
   "metadata": {},
   "outputs": [],
   "source": [
    "class HashMap:\n",
    "    def __init__(self, capacity=10):\n",
    "        \"\"\"\n",
    "        Initialize the HashMap with a fixed capacity and empty buckets.\n",
    "\n",
    "        Parameters:\n",
    "        capacity (int): The number of buckets in the hash table.\n",
    "        \"\"\"\n",
    "        self.capacity = capacity\n",
    "        # Create an array of empty lists for separate chaining\n",
    "        self.buckets = [[] for _ in range(capacity)]\n",
    "\n",
    "    def _hash(self, key):\n",
    "        \"\"\"\n",
    "        Simple custom hash function for demonstration.\n",
    "        It sums the ASCII values of characters in a string (or int conversion for numbers)\n",
    "        and returns an index based on the table's capacity.\n",
    "\n",
    "        Parameters:\n",
    "        key (str or int): The key to hash.\n",
    "\n",
    "        Returns:\n",
    "        int: An index within the range of the array.\n",
    "        \"\"\"\n",
    "        # Convert key to string to handle different types uniformly\n",
    "        key_str = str(key)\n",
    "        total = 0\n",
    "        for char in key_str:\n",
    "            total += ord(char)  # sum ASCII codes of all characters\n",
    "        # Ensure the index falls within the capacity\n",
    "        return total % self.capacity\n",
    "\n",
    "    def set(self, key, value):\n",
    "        \"\"\"\n",
    "        Insert or update the key-value pair in the hash map.\n",
    "\n",
    "        Parameters:\n",
    "        key (str or int): The key to insert or update.\n",
    "        value (any): The value associated with the key.\n",
    "        \"\"\"\n",
    "        index = self._hash(key)  # Determine which bucket to use\n",
    "        bucket = self.buckets[index]\n",
    "\n",
    "        # Check if the key already exists in the bucket\n",
    "        for i, (k, v) in enumerate(bucket):\n",
    "            if k == key:\n",
    "                # If found, update the value and return\n",
    "                bucket[i] = (key, value)\n",
    "                return\n",
    "\n",
    "        # If key not found, append new key-value pair to the bucket\n",
    "        bucket.append((key, value))\n",
    "\n",
    "    def get(self, key):\n",
    "        \"\"\"\n",
    "        Retrieve the value associated with the given key.\n",
    "\n",
    "        Parameters:\n",
    "        key (str or int): The key to look for.\n",
    "\n",
    "        Returns:\n",
    "        any: The value if found, otherwise None.\n",
    "        \"\"\"\n",
    "        index = self._hash(key)\n",
    "        bucket = self.buckets[index]\n",
    "\n",
    "        # Search for the key in the bucket\n",
    "        for k, v in bucket:\n",
    "            if k == key:\n",
    "                return v  # return the found value\n",
    "        return None  # Key not found\n",
    "\n",
    "    def remove(self, key):\n",
    "        \"\"\"\n",
    "        Remove the key-value pair associated with the given key.\n",
    "\n",
    "        Parameters:\n",
    "        key (str or int): The key to remove.\n",
    "        \"\"\"\n",
    "        index = self._hash(key)\n",
    "        bucket = self.buckets[index]\n",
    "\n",
    "        # Iterate over the bucket to find the key\n",
    "        for i, (k, v) in enumerate(bucket):\n",
    "            if k == key:\n",
    "                # If found, remove the pair from the bucket\n",
    "                del bucket[i]\n",
    "                return\n",
    "        print(f\"Key {key} not found for removal.\")\n",
    "\n",
    "\n",
    "# Example usage:\n",
    "if __name__ == \"__main__\":\n",
    "    # Create a new HashMap instance\n",
    "    hmap = HashMap()\n",
    "\n",
    "    # Insert some key-value pairs\n",
    "    hmap.set(\"apple\", 10)\n",
    "    hmap.set(\"banana\", 20)\n",
    "    hmap.set(\"orange\", 30)\n",
    "\n",
    "    # Retrieve values\n",
    "    print(\"Value for 'apple':\", hmap.get(\"apple\"))  # Output: 10\n",
    "    print(\"Value for 'banana':\", hmap.get(\"banana\"))  # Output: 20\n",
    "    print(\"Value for 'grape':\", hmap.get(\"grape\"))  # Output: None (not present)\n",
    "\n",
    "    # # Update a value\n",
    "    # hmap.set(\"apple\", 15)\n",
    "    # print(\"Updated value for 'apple':\", hmap.get(\"apple\")) # Output: 15\n",
    "\n",
    "    # # Remove a key\n",
    "    # hmap.remove(\"banana\")\n",
    "    # print(\"Value for 'banana' after removal:\", hmap.get(\"banana\"))  # Output: None\n",
    "\n",
    "    # # Attempt to remove a non-existent key\n",
    "    # hmap.remove(\"grape\")  # Output: Key grape not found for removal."
   ]
  },
  {
   "cell_type": "code",
   "execution_count": 20,
   "metadata": {},
   "outputs": [],
   "source": [
    "class HashMap:\n",
    "    def __init__(self, capacity=10):\n",
    "        self.capacity = capacity\n",
    "        self.bucket = [[] for _ in range(capacity)]\n",
    "\n",
    "    def _hash(self, key):\n",
    "        total = 0\n",
    "        charactes = str(key)\n",
    "        for c in charactes:\n",
    "            total += ord(c)\n",
    "        return total % self.capacity\n",
    "\n",
    "    def set(self, key, value):\n",
    "        index = self._hash(key)\n",
    "        bucket = self.bucket[index]\n",
    "        for i, (k, v) in enumerate(bucket):\n",
    "            if k == key:\n",
    "                bucket[i] = (key, value)\n",
    "                return\n",
    "        bucket.append((key, value))\n",
    "\n",
    "    def get(self, key):\n",
    "        index = self._hash(key)\n",
    "        bucket = self.bucket[index]\n",
    "        for i, (k, v) in enumerate(bucket):\n",
    "            if k == key:\n",
    "                return f\"value of {key} is {v}\"\n",
    "        else:\n",
    "            print(\"key is not present in hashtable\")\n",
    "\n",
    "    def remove(self, key):\n",
    "        index = self._hash(key)\n",
    "        bucket = self.bucket[index]\n",
    "        for i, (k, v) in enumerate(bucket):\n",
    "            if k == key:\n",
    "                del bucket[i]\n",
    "                return f\"{key} got deleted\"\n",
    "        else:\n",
    "            print(\"key is not present in hashtable\")"
   ]
  },
  {
   "cell_type": "code",
   "execution_count": 21,
   "metadata": {},
   "outputs": [],
   "source": [
    "hmap = HashMap()\n",
    "hmap.set(\"appale\", 10)\n",
    "hmap.set(\"banana\", 20)\n",
    "hmap.set(\"straberry\", 30)"
   ]
  },
  {
   "cell_type": "code",
   "execution_count": 22,
   "metadata": {},
   "outputs": [
    {
     "data": {
      "text/plain": [
       "'value of appale is 10'"
      ]
     },
     "execution_count": 22,
     "metadata": {},
     "output_type": "execute_result"
    }
   ],
   "source": [
    "hmap.get(\"appale\")\n"
   ]
  },
  {
   "cell_type": "code",
   "execution_count": 23,
   "metadata": {},
   "outputs": [
    {
     "data": {
      "text/plain": [
       "'value of banana is 20'"
      ]
     },
     "execution_count": 23,
     "metadata": {},
     "output_type": "execute_result"
    }
   ],
   "source": [
    "hmap.get(\"banana\")\n"
   ]
  },
  {
   "cell_type": "code",
   "execution_count": 24,
   "metadata": {},
   "outputs": [
    {
     "data": {
      "text/plain": [
       "'value of straberry is 30'"
      ]
     },
     "execution_count": 24,
     "metadata": {},
     "output_type": "execute_result"
    }
   ],
   "source": [
    "hmap.get(\"straberry\")"
   ]
  },
  {
   "cell_type": "code",
   "execution_count": 25,
   "metadata": {},
   "outputs": [],
   "source": [
    "hmap.get(\"berry\")"
   ]
  },
  {
   "cell_type": "code",
   "execution_count": 26,
   "metadata": {},
   "outputs": [],
   "source": [
    "hmap.set(\"appale\", 30)"
   ]
  },
  {
   "cell_type": "code",
   "execution_count": 27,
   "metadata": {},
   "outputs": [
    {
     "data": {
      "text/plain": [
       "'appale got deleted'"
      ]
     },
     "execution_count": 27,
     "metadata": {},
     "output_type": "execute_result"
    }
   ],
   "source": [
    "hmap.remove(\"appale\")"
   ]
  },
  {
   "cell_type": "code",
   "execution_count": 30,
   "metadata": {},
   "outputs": [],
   "source": [
    "class HashMaps: \n",
    "    def __init__(self, capacity=10): \n",
    "        self.capacity = capacity \n",
    "        self.bucket = [[] for _ in range(capacity)] \n",
    "        \n",
    "    def _hash(self, key): \n",
    "        chars = str(key) \n",
    "        total = 0 \n",
    "        for char in chars: \n",
    "            total+=ord(char) \n",
    "        return total%self.capacity \n",
    "    \n",
    "    def set(self, key, value): \n",
    "        index = self._hash(key) \n",
    "        bucket = self.bucket[index] \n",
    "        for i, (k, v) in enumerate(bucket): \n",
    "            if k == key: \n",
    "                bucket[i]=(key, value) \n",
    "                return f\"{key} insertion done\" \n",
    "        bucket.append((key, value)) \n",
    "        \n",
    "    def get(self, key): \n",
    "        index = self._hash(key) \n",
    "        bucket = self.bucket[index] \n",
    "        for i, (k, v) in enumerate(bucket): \n",
    "            if k==key: \n",
    "                return v \n",
    "        return f\"{key} is not present in hashtable\"\n",
    "            \n",
    "    def remove(self, key): \n",
    "        index = self._hash(key) \n",
    "        bucket = self.bucket[index] \n",
    "        for i, (k, v) in enumerate(bucket): \n",
    "            if k==key: \n",
    "                del bucket[i]\n",
    "                return f\"{key} is removed\"\n",
    "        return f\"{key} is not present in hash\""
   ]
  },
  {
   "cell_type": "code",
   "execution_count": 31,
   "metadata": {},
   "outputs": [],
   "source": [
    "hsmp = HashMaps()"
   ]
  },
  {
   "cell_type": "code",
   "execution_count": 32,
   "metadata": {},
   "outputs": [],
   "source": [
    "hsmp.set(\"apple\", 10)\n",
    "hsmp.set(\"banana\", 20)\n",
    "hsmp.set(\"cat\", 30)\n"
   ]
  },
  {
   "cell_type": "code",
   "execution_count": 33,
   "metadata": {},
   "outputs": [
    {
     "data": {
      "text/plain": [
       "30"
      ]
     },
     "execution_count": 33,
     "metadata": {},
     "output_type": "execute_result"
    }
   ],
   "source": [
    "hsmp.get(\"cat\")"
   ]
  },
  {
   "cell_type": "code",
   "execution_count": null,
   "metadata": {},
   "outputs": [],
   "source": []
  },
  {
   "cell_type": "code",
   "execution_count": 35,
   "metadata": {},
   "outputs": [
    {
     "data": {
      "text/plain": [
       "'cat is not present in hash'"
      ]
     },
     "execution_count": 35,
     "metadata": {},
     "output_type": "execute_result"
    }
   ],
   "source": [
    "hsmp.remove(\"cat\")"
   ]
  },
  {
   "cell_type": "code",
   "execution_count": null,
   "metadata": {},
   "outputs": [],
   "source": []
  },
  {
   "cell_type": "code",
   "execution_count": null,
   "metadata": {},
   "outputs": [],
   "source": []
  }
 ],
 "metadata": {
  "kernelspec": {
   "display_name": "venv",
   "language": "python",
   "name": "python3"
  },
  "language_info": {
   "codemirror_mode": {
    "name": "ipython",
    "version": 3
   },
   "file_extension": ".py",
   "mimetype": "text/x-python",
   "name": "python",
   "nbconvert_exporter": "python",
   "pygments_lexer": "ipython3",
   "version": "3.12.3"
  }
 },
 "nbformat": 4,
 "nbformat_minor": 2
}
