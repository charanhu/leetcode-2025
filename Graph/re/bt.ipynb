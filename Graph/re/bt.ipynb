{
 "cells": [
  {
   "cell_type": "code",
   "execution_count": 13,
   "metadata": {},
   "outputs": [],
   "source": [
    "class BSTNode:\n",
    "    def __init__(self, data):\n",
    "        self.data = data\n",
    "        self.left = None\n",
    "        self.right = None\n",
    "\n",
    "    \n",
    "class BinarySearchTree:\n",
    "    def __init__(self):\n",
    "        self.root = None\n",
    "\n",
    "    def insert(self, data):\n",
    "        if self.root is None:\n",
    "            self.root = BSTNode(data)\n",
    "        else:\n",
    "            self._insert_recursive(self.root, data)\n",
    "\n",
    "    def _insert_recursive(self, current, data):\n",
    "        if data < current.data:\n",
    "            if current.left is None:\n",
    "                current.left = BSTNode(data)\n",
    "            else:\n",
    "                self._insert_recursive(current.left, data)\n",
    "        elif data > current.data:\n",
    "            if current.right is None:\n",
    "                current.right = BSTNode(data)\n",
    "            else:\n",
    "                self._insert_recursive(current.right, data)\n",
    "        else:\n",
    "            print(\"Insertion not possible\")\n",
    "\n",
    "    def search(self, data):\n",
    "        return self._search_recursive(self.root, data)\n",
    "\n",
    "    def _search_recursive(self, current, data):\n",
    "        if current is None:\n",
    "            return False\n",
    "        if current.data == data:\n",
    "            return True\n",
    "        if data < current.data :\n",
    "            return self._search_recursive(current.left, data)\n",
    "        if data > current.data:\n",
    "            return self._search_recursive(current.right, data)\n",
    "        else:\n",
    "            return False\n",
    "        \n",
    "    def inorder_traversal(self):\n",
    "        result = []\n",
    "        self._inorder_traversal_recursive(self.root, result)\n",
    "        return result\n",
    "    \n",
    "    def _inorder_traversal_recursive(self, current, result):\n",
    "        if current:\n",
    "            self._inorder_traversal_recursive(current.left, result)\n",
    "\n",
    "            result.append(current.data)\n",
    "            self._inorder_traversal_recursive(current.right, result)\n",
    "\n",
    "\n",
    "    def delete(self, data):\n",
    "        self.root = self._delete_recursive(self.root, data)\n",
    "\n",
    "    def _delete_recursive(self, current, data):\n",
    "        if current is None:\n",
    "            return current\n",
    "        if data < current.data:\n",
    "            current.left = self._delete_recursive(current.left, data)\n",
    "        elif data > current.data:\n",
    "            current.right = self._delete_recursive(current.right, data)\n",
    "        else:\n",
    "            if current.left is None:\n",
    "                temp = current.right\n",
    "                current = None\n",
    "                return temp\n",
    "            elif current.right is None:\n",
    "                temp = current.left\n",
    "                current=None\n",
    "                return temp\n",
    "            \n",
    "            temp = self._min_value_order(current.right)\n",
    "            current.data = temp.data\n",
    "            current.right = self._delete_recursive(current.right, temp.data)\n",
    "        return current\n",
    "    \n",
    "    def _min_value_order(self, node):\n",
    "        current = node\n",
    "        while current.left:\n",
    "            current=current.left\n",
    "        return current\n",
    "\n",
    "\n",
    "\n",
    "    \n",
    "\n"
   ]
  },
  {
   "cell_type": "code",
   "execution_count": 14,
   "metadata": {},
   "outputs": [],
   "source": [
    "bst = BinarySearchTree()"
   ]
  },
  {
   "cell_type": "code",
   "execution_count": 15,
   "metadata": {},
   "outputs": [],
   "source": [
    "elements = [50, 30, 70, 20, 40, 60, 80]\n",
    "for elem in elements:\n",
    "    bst.insert(elem)"
   ]
  },
  {
   "cell_type": "code",
   "execution_count": 16,
   "metadata": {},
   "outputs": [
    {
     "data": {
      "text/plain": [
       "False"
      ]
     },
     "execution_count": 16,
     "metadata": {},
     "output_type": "execute_result"
    }
   ],
   "source": [
    "bst.search(10)"
   ]
  },
  {
   "cell_type": "code",
   "execution_count": 17,
   "metadata": {},
   "outputs": [
    {
     "data": {
      "text/plain": [
       "False"
      ]
     },
     "execution_count": 17,
     "metadata": {},
     "output_type": "execute_result"
    }
   ],
   "source": [
    "bst.search(15)"
   ]
  },
  {
   "cell_type": "code",
   "execution_count": 20,
   "metadata": {},
   "outputs": [
    {
     "data": {
      "text/plain": [
       "[20, 30, 40, 60, 70, 80]"
      ]
     },
     "execution_count": 20,
     "metadata": {},
     "output_type": "execute_result"
    }
   ],
   "source": [
    "bst.inorder_traversal()"
   ]
  },
  {
   "cell_type": "code",
   "execution_count": 19,
   "metadata": {},
   "outputs": [],
   "source": [
    "bst.delete(50)"
   ]
  },
  {
   "cell_type": "code",
   "execution_count": null,
   "metadata": {},
   "outputs": [],
   "source": []
  }
 ],
 "metadata": {
  "kernelspec": {
   "display_name": "venv",
   "language": "python",
   "name": "python3"
  },
  "language_info": {
   "codemirror_mode": {
    "name": "ipython",
    "version": 3
   },
   "file_extension": ".py",
   "mimetype": "text/x-python",
   "name": "python",
   "nbconvert_exporter": "python",
   "pygments_lexer": "ipython3",
   "version": "3.12.3"
  }
 },
 "nbformat": 4,
 "nbformat_minor": 2
}
