{
 "cells": [
  {
   "cell_type": "code",
   "execution_count": 106,
   "metadata": {},
   "outputs": [],
   "source": [
    "class Node:\n",
    "    def __init__(self, data):\n",
    "        self.data = data\n",
    "        self.next = None\n",
    "\n",
    "\n",
    "class LinkedList:\n",
    "    def __init__(self):\n",
    "        self.head = None\n",
    "\n",
    "    def display(self):\n",
    "        nodes = []\n",
    "        current = self.head\n",
    "        while current:\n",
    "            nodes.append(str(current.data))\n",
    "            current = current.next\n",
    "        print(\"->\".join(nodes))"
   ]
  },
  {
   "cell_type": "code",
   "execution_count": 107,
   "metadata": {},
   "outputs": [],
   "source": [
    "llist = LinkedList()"
   ]
  },
  {
   "cell_type": "code",
   "execution_count": 108,
   "metadata": {},
   "outputs": [],
   "source": [
    "first_node = Node(10)\n",
    "second_node = Node(20)\n",
    "third_node = Node(30)"
   ]
  },
  {
   "cell_type": "code",
   "execution_count": 109,
   "metadata": {},
   "outputs": [
    {
     "data": {
      "text/plain": [
       "<__main__.Node at 0x712654f3af30>"
      ]
     },
     "execution_count": 109,
     "metadata": {},
     "output_type": "execute_result"
    }
   ],
   "source": [
    "first_node"
   ]
  },
  {
   "cell_type": "code",
   "execution_count": 110,
   "metadata": {},
   "outputs": [
    {
     "data": {
      "text/plain": [
       "10"
      ]
     },
     "execution_count": 110,
     "metadata": {},
     "output_type": "execute_result"
    }
   ],
   "source": [
    "first_node.data"
   ]
  },
  {
   "cell_type": "code",
   "execution_count": 111,
   "metadata": {},
   "outputs": [],
   "source": [
    "llist.head = first_node"
   ]
  },
  {
   "cell_type": "code",
   "execution_count": 112,
   "metadata": {},
   "outputs": [],
   "source": [
    "llist.head.next = second_node"
   ]
  },
  {
   "cell_type": "code",
   "execution_count": 113,
   "metadata": {},
   "outputs": [],
   "source": [
    "second_node.next = third_node"
   ]
  },
  {
   "cell_type": "code",
   "execution_count": 114,
   "metadata": {},
   "outputs": [
    {
     "name": "stdout",
     "output_type": "stream",
     "text": [
      "10->20->30\n"
     ]
    }
   ],
   "source": [
    "llist.display()"
   ]
  },
  {
   "cell_type": "code",
   "execution_count": 115,
   "metadata": {},
   "outputs": [],
   "source": [
    "head = llist.head"
   ]
  },
  {
   "cell_type": "code",
   "execution_count": 116,
   "metadata": {},
   "outputs": [
    {
     "data": {
      "text/plain": [
       "10"
      ]
     },
     "execution_count": 116,
     "metadata": {},
     "output_type": "execute_result"
    }
   ],
   "source": [
    "head.data"
   ]
  },
  {
   "cell_type": "code",
   "execution_count": 120,
   "metadata": {},
   "outputs": [],
   "source": [
    "curr = head\n",
    "prev = None"
   ]
  },
  {
   "cell_type": "code",
   "execution_count": 121,
   "metadata": {},
   "outputs": [],
   "source": [
    "curr = head\n",
    "prev = None\n",
    "while curr:\n",
    "    temp = curr.next\n",
    "    curr.next = prev\n",
    "    prev = curr\n",
    "    curr = temp\n",
    "\n",
    "head = \n",
    "\n",
    "# while prev:\n",
    "#     print(prev.data)\n",
    "#     prev=prev.next"
   ]
  },
  {
   "cell_type": "code",
   "execution_count": 123,
   "metadata": {},
   "outputs": [
    {
     "name": "stdout",
     "output_type": "stream",
     "text": [
      "10\n"
     ]
    }
   ],
   "source": [
    "llist.display()"
   ]
  },
  {
   "cell_type": "code",
   "execution_count": 125,
   "metadata": {},
   "outputs": [
    {
     "name": "stdout",
     "output_type": "stream",
     "text": [
      "30\n",
      "20\n",
      "10\n"
     ]
    }
   ],
   "source": [
    "while prev:\n",
    "    print(prev.data)\n",
    "    prev=prev.next"
   ]
  },
  {
   "cell_type": "code",
   "execution_count": 135,
   "metadata": {},
   "outputs": [
    {
     "name": "stdout",
     "output_type": "stream",
     "text": [
      "First head 1\n",
      "Given Linked List: 1 2 3 4 5\n",
      "\n",
      "Rest :  5\n",
      "head :  4\n",
      "head :  4\n",
      "\n",
      "Rest :  5\n",
      "head :  3\n",
      "head :  3\n",
      "\n",
      "Rest :  5\n",
      "head :  2\n",
      "head :  2\n",
      "\n",
      "Rest :  5\n",
      "head :  1\n",
      "head :  1\n",
      "\n",
      "Reversed Linked List: 5 4 3 2 1\n"
     ]
    }
   ],
   "source": [
    "# Recursive Python program to reverse a linked list\n",
    "\n",
    "class Node:\n",
    "    def __init__(self, newData):\n",
    "        self.data = newData\n",
    "        self.next = None\n",
    "\n",
    "# Given the head of a list, reverse the list and \n",
    "# return the head of reversed list\n",
    "def reverseList(head):\n",
    "    if head is None or head.next is None:\n",
    "        return head\n",
    "\n",
    "    # reverse the rest of linked list and put the \n",
    "    # first element at the end\n",
    "    rest = reverseList(head.next)\n",
    "    print(\"\\nRest : \", rest.data)\n",
    "\n",
    "    # Make the current head as last node of \n",
    "    # remaining linked list\n",
    "    head.next.next = head\n",
    "    print(\"head : \", head.data)\n",
    "\n",
    "    # Update next of current head to NULL\n",
    "    head.next = None\n",
    "    print(\"head : \", head.data)\n",
    "\n",
    "    # Return the reversed linked list\n",
    "    return rest\n",
    "\n",
    "def printList(node):\n",
    "    while node is not None:\n",
    "        print(f\" {node.data}\", end='')\n",
    "        node = node.next\n",
    "    print()\n",
    "\n",
    "\n",
    "if __name__ == \"__main__\":\n",
    "\n",
    "    # Create a hard-coded linked list:\n",
    "    # 1 -> 2 -> 3 -> 4 -> 5\n",
    "    head = Node(1)\n",
    "    head.next = Node(2)\n",
    "    head.next.next = Node(3)\n",
    "    head.next.next.next = Node(4)\n",
    "    head.next.next.next.next = Node(5)\n",
    "\n",
    "    print(\"First head\", head.data)\n",
    "\n",
    "    print(\"Given Linked List:\", end='')\n",
    "    printList(head)\n",
    "\n",
    "    head = reverseList(head)\n",
    "\n",
    "    print(\"\\nReversed Linked List:\", end='')\n",
    "    printList(head)"
   ]
  },
  {
   "cell_type": "code",
   "execution_count": 1,
   "metadata": {},
   "outputs": [
    {
     "name": "stdout",
     "output_type": "stream",
     "text": [
      "0 0 0 1 0 0\n",
      "0 0 1 0 0 1\n",
      "0 0 0 0 1 0\n",
      "0 0 0 0 0 1\n",
      "0 0 0 0 0 0\n",
      "1 0 0 0 1 0\n"
     ]
    }
   ],
   "source": [
    "def build_and_print_adjacency_matrix():\n",
    "    n = 6\n",
    "    edges = [\n",
    "        [0, 3],\n",
    "        [1, 2],\n",
    "        [1, 5],\n",
    "        [2, 4],\n",
    "        [3, 5],\n",
    "        [5, 4],\n",
    "        [5, 0]\n",
    "    ]\n",
    "    \n",
    "    # Initialize an n x n matrix of zeros\n",
    "    matrix = [[0] * n for _ in range(n)]\n",
    "    \n",
    "    # Fill the adjacency matrix\n",
    "    for edge in edges:\n",
    "        src, dst = edge\n",
    "        matrix[src][dst] = 1  # Mark an edge from src -> dst\n",
    "    \n",
    "    # Print the adjacency matrix\n",
    "    for row in matrix:\n",
    "        print(' '.join(map(str, row)))\n",
    "\n",
    "\n",
    "if __name__ == \"__main__\":\n",
    "    build_and_print_adjacency_matrix()\n"
   ]
  },
  {
   "cell_type": "code",
   "execution_count": 2,
   "metadata": {},
   "outputs": [],
   "source": [
    "nums = [1, 2, 3, 4]"
   ]
  },
  {
   "cell_type": "code",
   "execution_count": 3,
   "metadata": {},
   "outputs": [
    {
     "data": {
      "text/plain": [
       "0"
      ]
     },
     "execution_count": 3,
     "metadata": {},
     "output_type": "execute_result"
    }
   ],
   "source": [
    "nums.index(1)"
   ]
  },
  {
   "cell_type": "code",
   "execution_count": null,
   "metadata": {},
   "outputs": [],
   "source": []
  }
 ],
 "metadata": {
  "kernelspec": {
   "display_name": "venv",
   "language": "python",
   "name": "python3"
  },
  "language_info": {
   "codemirror_mode": {
    "name": "ipython",
    "version": 3
   },
   "file_extension": ".py",
   "mimetype": "text/x-python",
   "name": "python",
   "nbconvert_exporter": "python",
   "pygments_lexer": "ipython3",
   "version": "3.12.3"
  }
 },
 "nbformat": 4,
 "nbformat_minor": 2
}
