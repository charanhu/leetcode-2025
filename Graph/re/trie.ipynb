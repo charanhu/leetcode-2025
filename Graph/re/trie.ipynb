{
 "cells": [
  {
   "cell_type": "code",
   "execution_count": 1,
   "metadata": {},
   "outputs": [],
   "source": [
    "# class TrieNode:\n",
    "#     def __init__(self):\n",
    "#         self.childnode = {}\n",
    "#         self.endofword = False\n",
    "\n",
    "# class Trie:\n",
    "#     def __init__(self):\n",
    "#         self.root = TrieNode()\n",
    "\n",
    "#     def insert(self, word):\n",
    "#         current = self.root\n",
    "#         for ch in word:\n",
    "#             if ch not in current.childnode:\n",
    "#                 current.childnode[ch] = TrieNode()\n",
    "#             current = current.childnode[ch]\n",
    "#         current.endofword = True\n",
    "\n",
    "#     def search(self, word):\n",
    "#         current = self.root\n",
    "#         for ch in word:\n",
    "#             if ch not in current.childnode:\n",
    "#                 return False\n",
    "#             current = current.childnode[ch]\n",
    "#         return current.endofword\n",
    "\n",
    "#     def display(self):\n",
    "#         \"\"\"\n",
    "#         Prints the trie structure to the console.\n",
    "#         Each path from root to node is shown as the\n",
    "#         prefix so far. A '*' will mark the end of a word.\n",
    "#         \"\"\"\n",
    "#         self._display_recursive(self.root, prefix=\"\")\n",
    "\n",
    "#     def _display_recursive(self, node, prefix):\n",
    "#         for char, child in sorted(node.childnode.items()):\n",
    "#             # If child.endofword is True, mark with '*'\n",
    "#             marker = \"*\" if child.endofword else \"\"\n",
    "#             print(prefix + char + marker)\n",
    "#             # Continue DFS with updated prefix\n",
    "#             self._display_recursive(child, prefix + char)\n"
   ]
  },
  {
   "cell_type": "code",
   "execution_count": 2,
   "metadata": {},
   "outputs": [],
   "source": [
    "class TrieNode:\n",
    "    def __init__(self):\n",
    "        self.childnode = {}\n",
    "        self.endofword = False"
   ]
  },
  {
   "cell_type": "code",
   "execution_count": 3,
   "metadata": {},
   "outputs": [],
   "source": [
    "class Trie:\n",
    "    def __init__(self):\n",
    "        self.root = TrieNode()\n",
    "\n",
    "    def insert(self, word):\n",
    "        current = self.root\n",
    "        for ch in word:\n",
    "            if ch not in current.childnode:\n",
    "                current.childnode[ch]=TrieNode()\n",
    "            current=current.childnode[ch]\n",
    "        current.endofword = True\n",
    "\n",
    "    def search(self, word):\n",
    "        current = self.root\n",
    "        for ch in word:\n",
    "            if ch not in current.childnode:\n",
    "                return False\n",
    "            current = current.childnode[ch]\n",
    "        return current.endofword\n",
    "    \n",
    "    def display(self):\n",
    "        current = self.root\n",
    "        print(current)\n",
    "        print(current.childnode)\n",
    "        print(current.childnode.keys())\n",
    "        for k, v in current.childnode.keys():\n",
    "            print(k , v , \"\\n\")\n",
    "            current=current.childnode\n",
    "\n",
    "    # def serch_common_prefix(self):\n",
    "    #     current = self.root\n",
    "    #     pref=\"\"\n",
    "    #     while len(current.childnode)<2:\n",
    "    #         pref=pref+current.childnode\n",
    "    #         current=current.childnode\n",
    "    #     return pref\n",
    "\n",
    "    # def print_root_children(self):\n",
    "    #     print(\"Root children:\", list(self.root.childnode.keys()))\n",
    "\n",
    "    # def longest_prefix(self):\n",
    "    #     current = self.root\n",
    "    #     pref=\"\"\n",
    "    #     while len(list(current.childnode.keys()))==1:\n",
    "    #         pref=pref+list(current.childnode.keys())[0]\n",
    "    #         current=current.childnode\n",
    "    #     return pref\n"
   ]
  },
  {
   "cell_type": "code",
   "execution_count": null,
   "metadata": {},
   "outputs": [],
   "source": []
  },
  {
   "cell_type": "code",
   "execution_count": 4,
   "metadata": {},
   "outputs": [],
   "source": [
    "te = Trie()"
   ]
  },
  {
   "cell_type": "code",
   "execution_count": 5,
   "metadata": {},
   "outputs": [],
   "source": [
    "te.insert(\"flower\")"
   ]
  },
  {
   "cell_type": "code",
   "execution_count": 6,
   "metadata": {},
   "outputs": [],
   "source": [
    "te.insert(\"flow\")"
   ]
  },
  {
   "cell_type": "code",
   "execution_count": 7,
   "metadata": {},
   "outputs": [],
   "source": [
    "te.insert(\"cat\")"
   ]
  },
  {
   "cell_type": "code",
   "execution_count": null,
   "metadata": {},
   "outputs": [],
   "source": [
    "te.search(\"cat\")"
   ]
  },
  {
   "cell_type": "code",
   "execution_count": null,
   "metadata": {},
   "outputs": [],
   "source": [
    "te.search(\"flip\")"
   ]
  },
  {
   "cell_type": "code",
   "execution_count": null,
   "metadata": {},
   "outputs": [],
   "source": [
    "te.search(\"fl\")"
   ]
  },
  {
   "cell_type": "code",
   "execution_count": null,
   "metadata": {},
   "outputs": [],
   "source": [
    "te.display()"
   ]
  },
  {
   "cell_type": "code",
   "execution_count": null,
   "metadata": {},
   "outputs": [],
   "source": []
  },
  {
   "cell_type": "code",
   "execution_count": null,
   "metadata": {},
   "outputs": [],
   "source": []
  },
  {
   "cell_type": "code",
   "execution_count": null,
   "metadata": {},
   "outputs": [],
   "source": []
  },
  {
   "cell_type": "code",
   "execution_count": null,
   "metadata": {},
   "outputs": [],
   "source": []
  },
  {
   "cell_type": "code",
   "execution_count": null,
   "metadata": {},
   "outputs": [],
   "source": []
  },
  {
   "cell_type": "code",
   "execution_count": 1,
   "metadata": {},
   "outputs": [
    {
     "name": "stdout",
     "output_type": "stream",
     "text": [
      "current:  <__main__.TrieNode object at 0x7f5a325e88f0>\n",
      "char, nextNode f <__main__.TrieNode object at 0x7f5a325ea210>\n",
      "nc, total_words:  3 3\n",
      "Longest Common Prefix: f\n"
     ]
    }
   ],
   "source": [
    "class TrieNode:\n",
    "    def __init__(self):\n",
    "        self.children = {}    # char -> TrieNode\n",
    "        self.endOfWord = False\n",
    "        self.count = 0        # How many words share/pass through this node\n",
    "\n",
    "class Trie:\n",
    "    def __init__(self):\n",
    "        self.root = TrieNode()\n",
    "        self.total_words = 0  # We'll track how many words are inserted\n",
    "\n",
    "    def insert(self, word):\n",
    "        # Each new word increments root's count (this path starts at root)\n",
    "        self.root.count += 1\n",
    "        self.total_words +=1\n",
    "\n",
    "        current = self.root\n",
    "        for ch in word:\n",
    "            if ch not in current.children:\n",
    "                current.children[ch] = TrieNode()\n",
    "            current = current.children[ch]\n",
    "            # Each node visited by the word increments its count\n",
    "            current.count += 1\n",
    "        \n",
    "        current.endOfWord = True\n",
    "\n",
    "    def getLongestCommonPrefix(self):\n",
    "        prefix = \"\"\n",
    "        current = self.root\n",
    "        print(\"current: \", current)\n",
    "\n",
    "        # Keep going down as long as there's exactly one child and\n",
    "        # that child is used by all words\n",
    "        while True:\n",
    "            if len(current.children) == 1:  \n",
    "                # Extract the single child (char, nextNode)\n",
    "                (char, nextNode) = list(current.children.items())[0]\n",
    "                print(\"char, nextNode\", char, nextNode)\n",
    "\n",
    "                print(\"nc, total_words: \", nextNode.count, self.total_words)\n",
    "\n",
    "                # Check if nextNode is used by ALL words\n",
    "                if nextNode.count == self.total_words:\n",
    "                    prefix += char\n",
    "                    current = nextNode\n",
    "                else:\n",
    "                    # That single child doesn't belong to all words, so stop\n",
    "                    break\n",
    "            else:\n",
    "                # Either branching (more than 1 child) or no children\n",
    "                break\n",
    "        \n",
    "        return prefix\n",
    "\n",
    "# ---------------------------\n",
    "# Usage Example\n",
    "# ---------------------------\n",
    "words = [\"flow\", \"f\", \"fast\"]\n",
    "trie = Trie()\n",
    "\n",
    "for w in words:\n",
    "    trie.insert(w)\n",
    "\n",
    "lcp = trie.getLongestCommonPrefix()\n",
    "print(\"Longest Common Prefix:\", lcp)\n",
    "# Correctly prints: \"f\"\n"
   ]
  },
  {
   "cell_type": "code",
   "execution_count": null,
   "metadata": {},
   "outputs": [],
   "source": []
  },
  {
   "cell_type": "code",
   "execution_count": null,
   "metadata": {},
   "outputs": [],
   "source": []
  },
  {
   "cell_type": "code",
   "execution_count": null,
   "metadata": {},
   "outputs": [],
   "source": []
  },
  {
   "cell_type": "code",
   "execution_count": null,
   "metadata": {},
   "outputs": [],
   "source": []
  },
  {
   "cell_type": "code",
   "execution_count": null,
   "metadata": {},
   "outputs": [],
   "source": []
  },
  {
   "cell_type": "code",
   "execution_count": null,
   "metadata": {},
   "outputs": [],
   "source": []
  },
  {
   "cell_type": "code",
   "execution_count": null,
   "metadata": {},
   "outputs": [],
   "source": []
  },
  {
   "cell_type": "code",
   "execution_count": 1,
   "metadata": {},
   "outputs": [],
   "source": [
    "n = [1, 2, 3]"
   ]
  },
  {
   "cell_type": "code",
   "execution_count": 2,
   "metadata": {},
   "outputs": [
    {
     "data": {
      "text/plain": [
       "6"
      ]
     },
     "execution_count": 2,
     "metadata": {},
     "output_type": "execute_result"
    }
   ],
   "source": [
    "sum(n)"
   ]
  },
  {
   "cell_type": "code",
   "execution_count": null,
   "metadata": {},
   "outputs": [],
   "source": []
  }
 ],
 "metadata": {
  "kernelspec": {
   "display_name": "venv",
   "language": "python",
   "name": "python3"
  },
  "language_info": {
   "codemirror_mode": {
    "name": "ipython",
    "version": 3
   },
   "file_extension": ".py",
   "mimetype": "text/x-python",
   "name": "python",
   "nbconvert_exporter": "python",
   "pygments_lexer": "ipython3",
   "version": "3.12.3"
  }
 },
 "nbformat": 4,
 "nbformat_minor": 2
}
