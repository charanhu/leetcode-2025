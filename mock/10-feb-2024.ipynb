{
 "cells": [
  {
   "cell_type": "code",
   "execution_count": null,
   "metadata": {},
   "outputs": [],
   "source": [
    "from collections import defaultdict\n",
    "\n",
    "pairs = [[\"alice\", \"bob\"], [\"bob\", \"charlie\"], [\"bob\", \"dave\"], [\"charan\", \"varun\"]]\n",
    "\n",
    "# Create the graph as an adjacency list\n",
    "graph = defaultdict(list)\n",
    "all_nodes = set()\n",
    "employee_node = set()\n",
    "root_node = set()\n",
    "for boss, employee in pairs:\n",
    "    graph[boss].append(employee)\n",
    "    all_nodes.add(boss)\n",
    "    all_nodes.add(employee)\n",
    "    employee_node.add(employee)\n",
    "\n",
    "# Find the root node\n",
    "root_node = all_nodes - employee_node\n",
    "\n",
    "def dfs(node):\n",
    "    total =1\n",
    "    for child in graph[node]:\n",
    "        total += dfs(child)\n",
    "    return total\n",
    "\n",
    "\n",
    "\n",
    "\n",
    "# boss_node=set()\n",
    "# employee_node=set()\n",
    "\n",
    "# # Optional: Print the graph to see the structure\n",
    "# for boss, reports in graph.items():\n",
    "#     boss_node.add(boss)\n",
    "#     employee_node.add(reports[0])\n"
   ]
  },
  {
   "cell_type": "code",
   "execution_count": null,
   "metadata": {},
   "outputs": [],
   "source": [
    "dfs(\"alice\")"
   ]
  },
  {
   "cell_type": "code",
   "execution_count": null,
   "metadata": {},
   "outputs": [],
   "source": [
    "for root in root_node:\n",
    "    print(dfs(root))"
   ]
  },
  {
   "cell_type": "code",
   "execution_count": null,
   "metadata": {},
   "outputs": [],
   "source": [
    "root_node"
   ]
  },
  {
   "cell_type": "code",
   "execution_count": null,
   "metadata": {},
   "outputs": [],
   "source": [
    "employee_node"
   ]
  },
  {
   "cell_type": "code",
   "execution_count": null,
   "metadata": {},
   "outputs": [],
   "source": [
    "employee_node"
   ]
  },
  {
   "cell_type": "code",
   "execution_count": null,
   "metadata": {},
   "outputs": [],
   "source": []
  },
  {
   "cell_type": "code",
   "execution_count": null,
   "metadata": {},
   "outputs": [],
   "source": [
    "boss_node"
   ]
  },
  {
   "cell_type": "code",
   "execution_count": null,
   "metadata": {},
   "outputs": [],
   "source": [
    "root_node = boss_node - employee_node"
   ]
  },
  {
   "cell_type": "code",
   "execution_count": null,
   "metadata": {},
   "outputs": [],
   "source": [
    "root_node"
   ]
  },
  {
   "cell_type": "code",
   "execution_count": null,
   "metadata": {},
   "outputs": [],
   "source": [
    "def dfs(node):\n",
    "    total = 1\n",
    "    for employee in graph[node]:\n",
    "        total += dfs(employee)\n",
    "    return total"
   ]
  },
  {
   "cell_type": "code",
   "execution_count": null,
   "metadata": {},
   "outputs": [],
   "source": [
    "dfs('charlie')"
   ]
  },
  {
   "cell_type": "code",
   "execution_count": null,
   "metadata": {},
   "outputs": [],
   "source": [
    "# method 2\n",
    "pairs = [[\"alice\", \"bob\"], [\"bob\", \"charlie\"], [\"bob\", \"dave\"], [\"charan\", \"varun\"]]\n",
    "\n",
    "graph = {}\n",
    "\n",
    "for pair in pairs:\n",
    "    if pair[0] not in graph:\n",
    "        graph[pair[0]] = []\n",
    "        print(\"not in\",graph) \n",
    "    graph[pair[0]].append(pair[1])\n",
    "    print(\"in\",graph)"
   ]
  },
  {
   "cell_type": "code",
   "execution_count": null,
   "metadata": {},
   "outputs": [],
   "source": [
    "pairs = [[\"alice\", \"bob\"], [\"bob\", \"charlie\"], [\"bob\", \"dave\"], [\"charan\", \"varun\"]]"
   ]
  },
  {
   "cell_type": "code",
   "execution_count": null,
   "metadata": {},
   "outputs": [],
   "source": [
    "from collections import defaultdict\n",
    "\n",
    "graph = defaultdict(list)\n",
    "all_nodes = set()\n",
    "employee_nodes = set()\n",
    "root_nodes = set()\n",
    "\n",
    "for boss, employee in pairs:\n",
    "    graph[boss].append(employee)\n",
    "    all_nodes.add(boss)\n",
    "    all_nodes.add(employee)\n",
    "    employee_nodes.add(employee)\n",
    "\n",
    "root_nodes = all_nodes - employee_nodes\n",
    "\n",
    "scores = {}\n",
    "\n",
    "def dfs(boss):\n",
    "    total=1\n",
    "    for employee in graph[boss]:\n",
    "        total+=dfs(employee)\n",
    "    scores[boss]=total\n",
    "    return total\n",
    "\n",
    "for root in root_nodes:\n",
    "    dfs(root)\n",
    "\n",
    "print(scores)"
   ]
  },
  {
   "cell_type": "code",
   "execution_count": null,
   "metadata": {},
   "outputs": [],
   "source": [
    "graph"
   ]
  },
  {
   "cell_type": "code",
   "execution_count": 1,
   "metadata": {},
   "outputs": [],
   "source": [
    "pairs = [[\"alice\", \"bob\"], [\"bob\", \"charlie\"], [\"bob\", \"dave\"], [\"charan\", \"varun\"]]"
   ]
  },
  {
   "cell_type": "code",
   "execution_count": 2,
   "metadata": {},
   "outputs": [],
   "source": [
    "graph = {}\n",
    "for boss, employee in pairs:\n",
    "    if boss not in graph:\n",
    "        graph[boss]=[]\n",
    "    graph[boss].append(employee)"
   ]
  },
  {
   "cell_type": "code",
   "execution_count": 3,
   "metadata": {},
   "outputs": [
    {
     "data": {
      "text/plain": [
       "{'alice': ['bob'], 'bob': ['charlie', 'dave'], 'charan': ['varun']}"
      ]
     },
     "execution_count": 3,
     "metadata": {},
     "output_type": "execute_result"
    }
   ],
   "source": [
    "graph"
   ]
  },
  {
   "cell_type": "code",
   "execution_count": 4,
   "metadata": {},
   "outputs": [
    {
     "name": "stdout",
     "output_type": "stream",
     "text": [
      "{'alice': ['bob', 'charlie', 'dave'], 'bob': ['alice', 'charlie', 'dave'], 'charlie': ['alice', 'bob', 'dave'], 'dave': ['alice', 'bob', 'charlie']}\n"
     ]
    }
   ],
   "source": [
    "# List of nodes\n",
    "nodes = ['alice', 'bob', 'charlie', 'dave']\n",
    "\n",
    "# Create an adjacency dictionary for a complete graph (without self-loops)\n",
    "graph = {node: [other for other in nodes if other != node] for node in nodes}\n",
    "\n",
    "print(graph)\n"
   ]
  },
  {
   "cell_type": "code",
   "execution_count": 5,
   "metadata": {},
   "outputs": [
    {
     "name": "stdout",
     "output_type": "stream",
     "text": [
      "{'alice': ['bob', 'charlie', 'dave'], 'bob': ['alice', 'charlie', 'dave'], 'charlie': ['alice', 'bob', 'dave'], 'dave': ['alice', 'bob', 'charlie']}\n"
     ]
    }
   ],
   "source": [
    "nodes = ['alice', 'bob', 'charlie', 'dave']\n",
    "graph = {}\n",
    "\n",
    "for node in nodes:\n",
    "    graph[node] = []\n",
    "    for other in nodes:\n",
    "        if node != other:\n",
    "            graph[node].append(other)\n",
    "\n",
    "print(graph)\n"
   ]
  },
  {
   "cell_type": "code",
   "execution_count": null,
   "metadata": {},
   "outputs": [
    {
     "name": "stdout",
     "output_type": "stream",
     "text": [
      "alice -> ['bob', 'eve']\n",
      "bob -> ['charlie', 'dave']\n",
      "charan -> ['varun', 'eve']\n"
     ]
    }
   ],
   "source": [
    "from collections import defaultdict\n",
    "\n",
    "# Example pairs including a case where an employee reports to two managers.\n",
    "pairs = [\n",
    "    [\"alice\", \"bob\"],\n",
    "    [\"bob\", \"charlie\"],\n",
    "    [\"bob\", \"dave\"],\n",
    "    [\"charan\", \"varun\"],\n",
    "    # Suppose 'eve' reports to both 'alice' and 'charan'\n",
    "    [\"alice\", \"eve\"],\n",
    "    [\"charan\", \"eve\"]\n",
    "]\n",
    "\n",
    "# Build the adjacency dictionary.\n",
    "graph = defaultdict(list)\n",
    "all_nodes = set()\n",
    "employee_nodes = set()\n",
    "root_nodes = set()\n",
    "for manager, employee in pairs:\n",
    "    graph[manager].append(employee)\n",
    "    all_nodes.add(manager)\n",
    "    all_nodes.add(employee)\n",
    "    employee_nodes.add(employee)\n",
    "\n",
    "root_nodes  = all_nodes - employee_nodes\n",
    "\n",
    "# Print the graph structure\n",
    "# for manager, reports in graph.items():\n",
    "#     print(f\"{manager} -> {reports}\")\n",
    "\n",
    "# Output might be:\n",
    "# alice -> ['bob', 'eve']\n",
    "# bob -> ['charlie', 'dave']\n",
    "# charan -> ['varun', 'eve']\n",
    "def dfs"
   ]
  },
  {
   "cell_type": "code",
   "execution_count": 11,
   "metadata": {},
   "outputs": [
    {
     "name": "stdout",
     "output_type": "stream",
     "text": [
      "alice score: 2\n",
      "charan score: 3\n",
      "eve score: 2\n",
      "kiran score: 1\n"
     ]
    }
   ],
   "source": [
    "from collections import defaultdict\n",
    "\n",
    "# Define relationships as tuples: (manager, employee, relationship_type)\n",
    "relationships = [\n",
    "    (\"alice\", \"eve\", \"secondary\"),  # eve reports to alice as secondary (non-propagating)\n",
    "    (\"charan\", \"eve\", \"primary\"),     # eve reports to charan as primary (propagating)\n",
    "    (\"eve\", \"kiran\", \"primary\")       # kiran reports to eve as primary (propagating)\n",
    "]\n",
    "\n",
    "# Build the graph as an adjacency dictionary.\n",
    "# Each key (manager) maps to a list of (employee, relationship_type) tuples.\n",
    "graph = defaultdict(list)\n",
    "for manager, employee, rel_type in relationships:\n",
    "    graph[manager].append((employee, rel_type))\n",
    "\n",
    "# We'll define a function to compute the score for a given manager.\n",
    "# The rules are:\n",
    "# - Always count the manager as 1.\n",
    "# - For each subordinate relationship:\n",
    "#   - If it's \"primary\", recursively add the subordinate's full score.\n",
    "#   - If it's \"secondary\", count only the subordinate (add 1) without further propagation.\n",
    "def compute_score(manager):\n",
    "    total = 1  # count the manager themselves\n",
    "    for subordinate, rel in graph.get(manager, []):\n",
    "        if rel == \"primary\":\n",
    "            total += compute_score(subordinate)\n",
    "        elif rel == \"secondary\":\n",
    "            total += 1  # count the subordinate only, without their subtree\n",
    "    return total\n",
    "\n",
    "# Compute and display scores for all relevant employees:\n",
    "# Note: If an employee isn't a key in the graph (i.e. they have no reports),\n",
    "# they have a score of 1 (just themselves).\n",
    "score_alice   = compute_score(\"alice\")   # expected 2: alice and eve\n",
    "score_charan  = compute_score(\"charan\")  # expected 3: charan, eve, and kiran\n",
    "score_eve     = compute_score(\"eve\")     # expected 2: eve and kiran\n",
    "score_kiran   = compute_score(\"kiran\")   # expected 1: kiran\n",
    "\n",
    "print(\"alice score:\", score_alice)\n",
    "print(\"charan score:\", score_charan)\n",
    "print(\"eve score:\", score_eve)\n",
    "print(\"kiran score:\", score_kiran)\n"
   ]
  },
  {
   "cell_type": "code",
   "execution_count": null,
   "metadata": {},
   "outputs": [],
   "source": []
  }
 ],
 "metadata": {
  "kernelspec": {
   "display_name": "Python 3",
   "language": "python",
   "name": "python3"
  },
  "language_info": {
   "codemirror_mode": {
    "name": "ipython",
    "version": 3
   },
   "file_extension": ".py",
   "mimetype": "text/x-python",
   "name": "python",
   "nbconvert_exporter": "python",
   "pygments_lexer": "ipython3",
   "version": "3.12.5"
  }
 },
 "nbformat": 4,
 "nbformat_minor": 2
}
