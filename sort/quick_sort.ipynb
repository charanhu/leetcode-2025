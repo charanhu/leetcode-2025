{
 "cells": [
  {
   "cell_type": "code",
   "execution_count": null,
   "metadata": {},
   "outputs": [],
   "source": [
    "def quick_sort(arr):\n",
    "    # Base case: A list of length 0 or 1 is already sorted\n",
    "    if len(arr) <= 1:\n",
    "        return arr\n",
    "\n",
    "    # 1. Pick the first element as pivot\n",
    "    pivot = arr[0]\n",
    "\n",
    "    # 2. Divide the rest into 'left' and 'right'\n",
    "    left = [x for x in arr[1:] if x <= pivot]\n",
    "    print(\"left: \", left)\n",
    "    right = [x for x in arr[1:] if x > pivot]\n",
    "    print(\"right: \", right)\n",
    "\n",
    "    # 3. Recursively quick-sort the left and right parts\n",
    "    sorted_left = quick_sort(left)\n",
    "    sorted_right = quick_sort(right)\n",
    "\n",
    "    # 4. Combine left, pivot, and right\n",
    "    return sorted_left + [pivot] + sorted_right\n",
    "\n",
    "# Example usage:\n",
    "numbers = [7, 2, 1, 6, 8, 5, 3, 4]\n",
    "sorted_numbers = quick_sort(numbers)\n",
    "print(sorted_numbers)  # [1, 2, 3, 4, 5, 6, 7, 8]\n"
   ]
  },
  {
   "cell_type": "code",
   "execution_count": null,
   "metadata": {},
   "outputs": [],
   "source": [
    "def quick_sort(arr):\n",
    "    if len(arr)<=1:\n",
    "        return arr\n",
    "    pivote=arr[0]\n",
    "    left_arr=[x for x in arr[1:] if x<=pivote]\n",
    "    right_arr=[x for x in arr[1:] if x>pivote]\n",
    "    sorted_left_arr=quick_sort(left_arr)\n",
    "    sorted_right_arr="
   ]
  },
  {
   "cell_type": "code",
   "execution_count": 20,
   "metadata": {},
   "outputs": [],
   "source": [
    "class Solution(object):\n",
    "    def numberOfSubsequences(self, nums):\n",
    "        \"\"\"\n",
    "        :type nums: List[int]\n",
    "        :rtype: int\n",
    "        \"\"\"\n",
    "        \n",
    "        # p=0\n",
    "        # q=2\n",
    "        # r=4\n",
    "        # s=6\n",
    "        n=len(nums)\n",
    "        pr={}\n",
    "        qs={}\n",
    "        for p in range(0, n-6):\n",
    "            for r in range(4, n-2):\n",
    "                pr[nums[p]*nums[r]]=(p, r)\n",
    "        for q in range(2, n-4):\n",
    "            for s in range(6, n):\n",
    "                qs[nums[q]*nums[s]]=(q, s)\n",
    "        return pr, qs\n",
    "\n"
   ]
  },
  {
   "cell_type": "code",
   "execution_count": 21,
   "metadata": {},
   "outputs": [],
   "source": [
    "a = [1,2,3,4,3,6,1]"
   ]
  },
  {
   "cell_type": "code",
   "execution_count": 22,
   "metadata": {},
   "outputs": [],
   "source": [
    "ss=Solution()"
   ]
  },
  {
   "cell_type": "code",
   "execution_count": null,
   "metadata": {},
   "outputs": [],
   "source": [
    "ss.numberOfSubsequences(a)"
   ]
  },
  {
   "cell_type": "code",
   "execution_count": 24,
   "metadata": {},
   "outputs": [],
   "source": [
    "b = [3,4,3,4,3,4,3,4]"
   ]
  },
  {
   "cell_type": "code",
   "execution_count": null,
   "metadata": {},
   "outputs": [],
   "source": [
    "ss.numberOfSubsequences(b)"
   ]
  },
  {
   "cell_type": "code",
   "execution_count": 72,
   "metadata": {},
   "outputs": [],
   "source": [
    "# Definition for singly-linked list.\n",
    "# class ListNode(object):\n",
    "#     def __init__(self, val=0, next=None):\n",
    "#         self.val = val\n",
    "#         self.next = next\n",
    "class Solution(object):\n",
    "    def addTwoNumbers(self, l1, l2):\n",
    "        \"\"\"\n",
    "        :type l1: Optional[ListNode]\n",
    "        :type l2: Optional[ListNode]\n",
    "        :rtype: Optional[ListNode]\n",
    "        \"\"\"\n",
    "\n",
    "class Node:\n",
    "    def __init__(self, data):\n",
    "        self.data = data\n",
    "        self.next = None\n",
    "\n",
    "class LinkedList:\n",
    "    def __init__(self):\n",
    "        self.head=None\n",
    "\n",
    "    def insert(self, data):\n",
    "        new_node = Node(data)\n",
    "        if self.head is None:\n",
    "            self.head = new_node\n",
    "            print(f\"inserted {new_node.data}\")\n",
    "            return\n",
    "        current = self.head\n",
    "        while current.next:\n",
    "            current=current.next\n",
    "        current.next=new_node\n",
    "        print(f\"inserted {new_node.data}\")\n",
    "\n",
    "    def display(self):\n",
    "        current = self.head\n",
    "        while current:\n",
    "            print(current.data)\n",
    "            current=current.next\n",
    "\n",
    "    def reverse(self):\n",
    "        res = []\n",
    "        prev=None\n",
    "        current=self.head\n",
    "        while current:\n",
    "            temp=current.next\n",
    "            current.next=prev\n",
    "            prev=current\n",
    "            current=temp\n",
    "\n",
    "        while prev:\n",
    "            res.append(prev.data)\n",
    "            prev=prev.next\n",
    "        return res\n",
    "    \n",
    "    def sum_ll(self, ll1, ll2):\n",
    "        l1_res=ll1.reverse()\n",
    "        l2_res=ll2.reverse()\n",
    "        \n",
    "\n",
    "        "
   ]
  },
  {
   "cell_type": "code",
   "execution_count": 73,
   "metadata": {},
   "outputs": [],
   "source": [
    "l1 = LinkedList()\n",
    "l2 = LinkedList()"
   ]
  },
  {
   "cell_type": "code",
   "execution_count": 74,
   "metadata": {},
   "outputs": [],
   "source": [
    "a = [2,4,3]\n",
    "b= [5,6,4]"
   ]
  },
  {
   "cell_type": "code",
   "execution_count": 75,
   "metadata": {},
   "outputs": [
    {
     "name": "stdout",
     "output_type": "stream",
     "text": [
      "inserted 2\n",
      "inserted 4\n",
      "inserted 3\n"
     ]
    }
   ],
   "source": [
    "for m in a:\n",
    "    l1.insert(m)"
   ]
  },
  {
   "cell_type": "code",
   "execution_count": 76,
   "metadata": {},
   "outputs": [
    {
     "name": "stdout",
     "output_type": "stream",
     "text": [
      "inserted 5\n",
      "inserted 6\n",
      "inserted 4\n"
     ]
    }
   ],
   "source": [
    "for n in b:\n",
    "    l2.insert(n)"
   ]
  },
  {
   "cell_type": "code",
   "execution_count": 77,
   "metadata": {},
   "outputs": [],
   "source": [
    "l1_res=l1.reverse()\n",
    "l2_res=l2.reverse()"
   ]
  },
  {
   "cell_type": "code",
   "execution_count": 78,
   "metadata": {},
   "outputs": [
    {
     "data": {
      "text/plain": [
       "[3, 4, 2]"
      ]
     },
     "execution_count": 78,
     "metadata": {},
     "output_type": "execute_result"
    }
   ],
   "source": [
    "l1_res"
   ]
  },
  {
   "cell_type": "code",
   "execution_count": 79,
   "metadata": {},
   "outputs": [
    {
     "data": {
      "text/plain": [
       "[4, 6, 5]"
      ]
     },
     "execution_count": 79,
     "metadata": {},
     "output_type": "execute_result"
    }
   ],
   "source": [
    "l2_res"
   ]
  },
  {
   "cell_type": "code",
   "execution_count": 80,
   "metadata": {},
   "outputs": [],
   "source": [
    "l1_res=int(\"\".join(map(str, l1_res)))\n",
    "l2_res=int(\"\".join(map(str, l2_res)))"
   ]
  },
  {
   "cell_type": "code",
   "execution_count": 81,
   "metadata": {},
   "outputs": [],
   "source": [
    "final = l1_res+l2_res"
   ]
  },
  {
   "cell_type": "code",
   "execution_count": 82,
   "metadata": {},
   "outputs": [
    {
     "data": {
      "text/plain": [
       "807"
      ]
     },
     "execution_count": 82,
     "metadata": {},
     "output_type": "execute_result"
    }
   ],
   "source": [
    "final"
   ]
  },
  {
   "cell_type": "code",
   "execution_count": null,
   "metadata": {},
   "outputs": [],
   "source": []
  },
  {
   "cell_type": "code",
   "execution_count": 83,
   "metadata": {},
   "outputs": [],
   "source": [
    "l1=[2, 3, 4]"
   ]
  },
  {
   "cell_type": "code",
   "execution_count": 84,
   "metadata": {},
   "outputs": [
    {
     "data": {
      "text/plain": [
       "[4, 3, 2]"
      ]
     },
     "execution_count": 84,
     "metadata": {},
     "output_type": "execute_result"
    }
   ],
   "source": [
    "l1[::-1]"
   ]
  },
  {
   "cell_type": "code",
   "execution_count": null,
   "metadata": {},
   "outputs": [],
   "source": []
  }
 ],
 "metadata": {
  "kernelspec": {
   "display_name": "venv",
   "language": "python",
   "name": "python3"
  },
  "language_info": {
   "codemirror_mode": {
    "name": "ipython",
    "version": 3
   },
   "file_extension": ".py",
   "mimetype": "text/x-python",
   "name": "python",
   "nbconvert_exporter": "python",
   "pygments_lexer": "ipython3",
   "version": "3.12.3"
  }
 },
 "nbformat": 4,
 "nbformat_minor": 2
}
